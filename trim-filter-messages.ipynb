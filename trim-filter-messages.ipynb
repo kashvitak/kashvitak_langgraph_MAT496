{
 "cells": [
  {
   "cell_type": "markdown",
   "id": "fb0ebaf1",
   "metadata": {},
   "source": [
    "[![Open in Colab](https://colab.research.google.com/assets/colab-badge.svg)](https://colab.research.google.com/github/langchain-ai/langchain-academy/blob/main/module-2/trim-filter-messages.ipynb) [![Open in LangChain Academy](https://cdn.prod.website-files.com/65b8cd72835ceeacd4449a53/66e9eba12c7b7688aa3dbb5e_LCA-badge-green.svg)](https://academy.langchain.com/courses/take/intro-to-langgraph/lessons/58239435-lesson-4-trim-and-filter-messages)"
   ]
  },
  {
   "cell_type": "markdown",
   "id": "c52ea2f9-03ff-4647-b782-46867ebed04e",
   "metadata": {},
   "source": [
    "# Filtering and trimming messages\n",
    "\n",
    "## Review\n",
    "\n",
    "Now, we have a deeper understanding of a few things: \n",
    "\n",
    "* How to customize the graph state schema\n",
    "* How to define custom state reducers\n",
    "* How to use multiple graph state schemas\n",
    "\n",
    "## Goals\n",
    "\n",
    "Now, we can start using these concepts with models in LangGraph!\n",
    " \n",
    "In the next few sessions, we'll build towards a chatbot that has long-term memory.\n",
    "\n",
    "Because our chatbot will use messages, let's first talk a bit more about advanced ways to work with messages in graph state."
   ]
  },
  {
   "cell_type": "code",
   "execution_count": 1,
   "id": "d5197aba-5d46-421b-ae3b-4e3034edcfda",
   "metadata": {},
   "outputs": [
    {
     "name": "stderr",
     "output_type": "stream",
     "text": [
      "\n",
      "[notice] A new release of pip is available: 25.1.1 -> 25.2\n",
      "[notice] To update, run: python.exe -m pip install --upgrade pip\n"
     ]
    }
   ],
   "source": [
    "%%capture --no-stderr\n",
    "%pip install --quiet -U langchain_core langgraph langchain_openai"
   ]
  },
  {
   "cell_type": "code",
   "execution_count": 2,
   "id": "768dc606-d5f2-468d-96ea-910b264e0f8a",
   "metadata": {},
   "outputs": [],
   "source": [
    "import os, getpass\n",
    "\n",
    "def _set_env(var: str):\n",
    "    if not os.environ.get(var):\n",
    "        os.environ[var] = getpass.getpass(f\"{var}: \")\n",
    "\n",
    "_set_env(\"OPENAI_API_KEY\")"
   ]
  },
  {
   "cell_type": "markdown",
   "id": "8b64d8d3-e4ac-4961-bdc0-688825eb5864",
   "metadata": {},
   "source": [
    "We'll use [LangSmith](https://docs.smith.langchain.com/) for [tracing](https://docs.smith.langchain.com/concepts/tracing).\n",
    "\n",
    "We'll log to a project, `langchain-academy`. "
   ]
  },
  {
   "cell_type": "code",
   "execution_count": 3,
   "id": "dd020c79",
   "metadata": {},
   "outputs": [],
   "source": [
    "_set_env(\"LANGSMITH_API_KEY\")\n",
    "os.environ[\"LANGSMITH_TRACING\"] = \"true\"\n",
    "os.environ[\"LANGSMITH_PROJECT\"] = \"langchain-academy\""
   ]
  },
  {
   "cell_type": "markdown",
   "id": "72f3fc90-58b6-4f7f-897e-dddf6ae532c7",
   "metadata": {},
   "source": [
    "## Messages as state\n",
    "\n",
    "First, let's define some messages."
   ]
  },
  {
   "cell_type": "code",
   "execution_count": 20,
   "id": "cf11a463-e27a-4a05-b41d-64882e38edca",
   "metadata": {},
   "outputs": [
    {
     "name": "stdout",
     "output_type": "stream",
     "text": [
      "==================================\u001b[1m Ai Message \u001b[0m==================================\n",
      "Name: Bot\n",
      "\n",
      "So you said you were looking for places to go around the world?\n",
      "================================\u001b[1m Human Message \u001b[0m=================================\n",
      "Name: Lance\n",
      "\n",
      "Yes, I am interested in Italy. But what other places can i go to?\n"
     ]
    }
   ],
   "source": [
    "from pprint import pprint\n",
    "from langchain_core.messages import AIMessage, HumanMessage\n",
    "messages = [AIMessage(f\"So you said you were looking for places to go around the world?\", name=\"Bot\")]\n",
    "messages.append(HumanMessage(f\"Yes, I am interested in Italy. But what other places can i go to?\", name=\"Lance\"))\n",
    "\n",
    "for m in messages:\n",
    "    m.pretty_print()"
   ]
  },
  {
   "cell_type": "markdown",
   "id": "b814adcb-6bf9-4b75-be11-e59f933fbd0c",
   "metadata": {},
   "source": [
    "Recall we can pass them to a chat model."
   ]
  },
  {
   "cell_type": "code",
   "execution_count": 21,
   "id": "4712e288-e622-48a2-ad3f-a52f65f3ab08",
   "metadata": {},
   "outputs": [
    {
     "data": {
      "text/plain": [
       "AIMessage(content=\"Italy is a fantastic choice with its rich history, art, and delicious cuisine. Beyond Italy, there are many other wonderful destinations to consider, each offering unique experiences:\\n\\n1. **France**: Known for its beautiful countryside, incredible cuisine, and world-class art and fashion. Paris, the Loire Valley, and the French Riviera are highlights.\\n\\n2. **Spain**: Offers vibrant cities like Barcelona and Madrid, stunning architecture, and diverse landscapes. Don't miss the beaches in the south and the unique Basque culture in the north.\\n\\n3. **Greece**: Famous for its ancient history and beautiful islands. Athens and the islands of Santorini and Mykonos are top destinations.\\n\\n4. **Japan**: A blend of ancient tradition and cutting-edge modernity. Explore Tokyo's bustling streets, Kyoto's temples, and Hokkaido's natural beauty.\\n\\n5. **Australia**: Known for its stunning natural landscapes, from the Great Barrier Reef to the Outback, and vibrant cities like Sydney and Melbourne.\\n\\n6. **Thailand**: Offers beautiful beaches, rich culture, and delicious food. Explore Bangkok, Chiang Mai, and the islands of Phuket and Koh Samui.\\n\\n7. **New Zealand**: Known for its breathtaking natural beauty, outdoor adventures, and Maori culture. The South Island's landscapes are particularly renowned.\\n\\n8. **Morocco**: Offers a mix of cultural influences, stunning architecture, and beautiful landscapes, from the Sahara Desert to the Atlas Mountains.\\n\\n9. **Peru**: Famous for Machu Picchu and its Incan heritage, as well as stunning natural landscapes like the Sacred Valley and the Amazon Rainforest.\\n\\n10. **South Africa**: Offers diverse wildlife and landscapes, from safaris in Kruger National Park to the beautiful city of Cape Town and its surroundings.\\n\\nEach of these destinations offers a unique experience, so your choice might depend on your interests, be it history, nature, adventure, or cuisine.\", additional_kwargs={'refusal': None}, response_metadata={'token_usage': {'completion_tokens': 392, 'prompt_tokens': 46, 'total_tokens': 438, 'completion_tokens_details': {'accepted_prediction_tokens': 0, 'audio_tokens': 0, 'reasoning_tokens': 0, 'rejected_prediction_tokens': 0}, 'prompt_tokens_details': {'audio_tokens': 0, 'cached_tokens': 0}}, 'model_provider': 'openai', 'model_name': 'gpt-4o-2024-08-06', 'system_fingerprint': 'fp_a788c5aef0', 'id': 'chatcmpl-CTsZZ5qK9zYKR9EEYZ2eY90q7os5v', 'service_tier': 'default', 'finish_reason': 'stop', 'logprobs': None}, id='lc_run--42a012ca-2271-429f-9d7b-cd8867448808-0', usage_metadata={'input_tokens': 46, 'output_tokens': 392, 'total_tokens': 438, 'input_token_details': {'audio': 0, 'cache_read': 0}, 'output_token_details': {'audio': 0, 'reasoning': 0}})"
      ]
     },
     "execution_count": 21,
     "metadata": {},
     "output_type": "execute_result"
    }
   ],
   "source": [
    "from langchain_openai import ChatOpenAI\n",
    "llm = ChatOpenAI(model=\"gpt-4o\")\n",
    "llm.invoke(messages)"
   ]
  },
  {
   "cell_type": "markdown",
   "id": "fbd1dab8-0af8-4621-8264-ce65065f76ec",
   "metadata": {},
   "source": [
    "We can run our chat model in a simple graph with `MessagesState`."
   ]
  },
  {
   "cell_type": "code",
   "execution_count": 22,
   "id": "bbd8c39c-633b-4176-9cc6-8318e42bb5dd",
   "metadata": {},
   "outputs": [
    {
     "data": {
      "image/png": "[encoded data removed]",
      "text/plain": [
       "<IPython.core.display.Image object>"
      ]
     },
     "metadata": {},
     "output_type": "display_data"
    }
   ],
   "source": [
    "from IPython.display import Image, display\n",
    "from langgraph.graph import MessagesState\n",
    "from langgraph.graph import StateGraph, START, END\n",
    "\n",
    "# Node\n",
    "def chat_model_node(state: MessagesState):\n",
    "    return {\"messages\": llm.invoke(state[\"messages\"])}\n",
    "\n",
    "# Build graph\n",
    "builder = StateGraph(MessagesState)\n",
    "builder.add_node(\"chat_model\", chat_model_node)\n",
    "builder.add_edge(START, \"chat_model\")\n",
    "builder.add_edge(\"chat_model\", END)\n",
    "graph = builder.compile()\n",
    "\n",
    "# View\n",
    "display(Image(graph.get_graph().draw_mermaid_png()))"
   ]
  },
  {
   "cell_type": "code",
   "execution_count": 23,
   "id": "3a5a3e4a-ccfd-4d14-81f1-f0de6e11a1e4",
   "metadata": {},
   "outputs": [
    {
     "name": "stdout",
     "output_type": "stream",
     "text": [
      "==================================\u001b[1m Ai Message \u001b[0m==================================\n",
      "Name: Bot\n",
      "\n",
      "So you said you were looking for places to go around the world?\n",
      "================================\u001b[1m Human Message \u001b[0m=================================\n",
      "Name: Lance\n",
      "\n",
      "Yes, I am interested in Italy. But what other places can i go to?\n",
      "==================================\u001b[1m Ai Message \u001b[0m==================================\n",
      "\n",
      "Italy is a fantastic choice with its rich history, stunning landscapes, and delicious cuisine. In addition to Italy, here are a few other places around the world that you might find interesting:\n",
      "\n",
      "1. **Japan** - Known for its blend of traditional culture and cutting-edge technology, with attractions like Tokyo, Kyoto's historic temples, and the beautiful cherry blossoms in spring.\n",
      "\n",
      "2. **New Zealand** - Famous for its stunning natural landscapes, from beaches to mountains, and known for outdoor adventures like hiking and bungee jumping.\n",
      "\n",
      "3. **Peru** - Home to the ancient Incan city of Machu Picchu, beautiful landscapes like the Sacred Valley, and the vibrant city of Cusco.\n",
      "\n",
      "4. **Greece** - Offers ancient history in Athens, beautiful islands like Santorini and Mykonos, and delicious Mediterranean cuisine.\n",
      "\n",
      "5. **Morocco** - Known for its vibrant markets, historic cities like Marrakech and Fes, and the vast Sahara Desert.\n",
      "\n",
      "6. **Iceland** - Offers unique natural phenomena like the Northern Lights, geothermal hot springs, and dramatic landscapes with waterfalls and volcanic craters.\n",
      "\n",
      "7. **Australia** - Known for its diverse ecosystems, including the Great Barrier Reef, vibrant cities like Sydney and Melbourne, and vast outback regions.\n",
      "\n",
      "8. **Thailand** - Known for its tropical beaches, opulent royal palaces, ancient ruins, and ornate temples with Buddha figures.\n",
      "\n",
      "9. **South Africa** - Offers stunning wildlife safaris in Kruger National Park, beautiful coastlines, and vibrant cities like Cape Town.\n",
      "\n",
      "10. **Spain** - Known for its rich history, beautiful architecture, delicious tapas, and cultural festivals like La Tomatina and Running of the Bulls.\n",
      "\n",
      "Each of these destinations offers its unique attractions and experiences, so it depends on what you're looking for in your travels!\n"
     ]
    }
   ],
   "source": [
    "output = graph.invoke({'messages': messages})\n",
    "for m in output['messages']:\n",
    "    m.pretty_print()"
   ]
  },
  {
   "cell_type": "markdown",
   "id": "34c33e63-1ef4-412d-bb10-6a1b9e5b35a7",
   "metadata": {},
   "source": [
    "## Reducer\n",
    "\n",
    "A practical challenge when working with messages is managing long-running conversations. \n",
    "\n",
    "Long-running conversations result in high token usage and latency if we are not careful, because we pass a growing list of messages to the model.\n",
    "\n",
    "We have a few ways to address this.\n",
    "\n",
    "First, recall the trick we saw using `RemoveMessage` and the `add_messages` reducer."
   ]
  },
  {
   "cell_type": "code",
   "execution_count": 24,
   "id": "222c6bc5-bb0e-4a43-80f5-c8ec38d99f3a",
   "metadata": {},
   "outputs": [
    {
     "data": {
      "image/png": "[encoded data removed]",
      "text/plain": [
       "<IPython.core.display.Image object>"
      ]
     },
     "metadata": {},
     "output_type": "display_data"
    }
   ],
   "source": [
    "from langchain_core.messages import RemoveMessage\n",
    "\n",
    "# Nodes\n",
    "def filter_messages(state: MessagesState):\n",
    "    # Delete all but the 2 most recent messages\n",
    "    delete_messages = [RemoveMessage(id=m.id) for m in state[\"messages\"][:-2]]\n",
    "    return {\"messages\": delete_messages}\n",
    "\n",
    "def chat_model_node(state: MessagesState):    \n",
    "    return {\"messages\": [llm.invoke(state[\"messages\"])]}\n",
    "\n",
    "# Build graph\n",
    "builder = StateGraph(MessagesState)\n",
    "builder.add_node(\"filter\", filter_messages)\n",
    "builder.add_node(\"chat_model\", chat_model_node)\n",
    "builder.add_edge(START, \"filter\")\n",
    "builder.add_edge(\"filter\", \"chat_model\")\n",
    "builder.add_edge(\"chat_model\", END)\n",
    "graph = builder.compile()\n",
    "\n",
    "# View\n",
    "display(Image(graph.get_graph().draw_mermaid_png()))"
   ]
  },
  {
   "cell_type": "code",
   "execution_count": 27,
   "id": "95a7c2cc-54ce-43e7-9a90-abf37827d709",
   "metadata": {},
   "outputs": [
    {
     "name": "stdout",
     "output_type": "stream",
     "text": [
      "==================================\u001b[1m Ai Message \u001b[0m==================================\n",
      "Name: Bot\n",
      "\n",
      "So you said you were looking for places to go around the world?\n",
      "================================\u001b[1m Human Message \u001b[0m=================================\n",
      "Name: Lance\n",
      "\n",
      "Yes, I am interested in Italy. But what other places can i go to?\n",
      "==================================\u001b[1m Ai Message \u001b[0m==================================\n",
      "\n",
      "Italy is a fantastic choice with its rich history, culture, and cuisine. If you're open to exploring other destinations, here are a few suggestions that might interest you:\n",
      "\n",
      "1. **Spain**: Discover vibrant cities like Barcelona and Madrid, relax on the beaches of the Costa del Sol, or explore the unique architecture of Seville and Granada.\n",
      "\n",
      "2. **France**: From the romance of Paris to the stunning landscapes of Provence and the French Riviera, France offers diverse attractions.\n",
      "\n",
      "3. **Greece**: Explore the historic sites of Athens, relax on the picturesque islands of Santorini and Mykonos, or delve into the culture of Crete.\n",
      "\n",
      "4. **Portugal**: Visit the charming city of Lisbon, the scenic Douro Valley wine region, or the beaches of the Algarve.\n",
      "\n",
      "5. **Japan**: Experience the blend of traditional and modern in Tokyo, the historic temples of Kyoto, and the natural beauty of Hokkaido.\n",
      "\n",
      "6. **Iceland**: Discover the dramatic landscapes of volcanoes, geysers, hot springs, and glaciers in this unique and beautiful country.\n",
      "\n",
      "7. **Australia**: Explore the Great Barrier Reef, the vibrant city of Sydney, or the natural beauty of the outback.\n",
      "\n",
      "8. **New Zealand**: Experience breathtaking landscapes, adventure sports, and Maori culture in this stunning country.\n",
      "\n",
      "9. **Thailand**: Enjoy the vibrant city of Bangkok, the ancient ruins of Ayutthaya, and the beautiful beaches of Phuket and Koh Samui.\n",
      "\n",
      "10. **South Africa**: From the wild beauty of Kruger National Park to the cosmopolitan city of Cape Town, South Africa offers diverse experiences.\n",
      "\n",
      "Each of these destinations has its own unique attractions and cultural highlights, offering different experiences depending on your interests.\n"
     ]
    }
   ],
   "source": [
    "# Message list with a preamble\n",
    "messages = [AIMessage(\"Hi.\", name=\"Bot\", id=\"1\")]\n",
    "messages.append(HumanMessage(\"Hi.\", name=\"Lance\", id=\"2\"))\n",
    "messages.append(AIMessage(\"So you said you were looking for places to go around the world?\", name=\"Bot\", id=\"3\"))\n",
    "messages.append(HumanMessage(\"Yes, I am interested in Italy. But what other places can i go to?\", name=\"Lance\", id=\"4\"))\n",
    "\n",
    "# Invoke\n",
    "output = graph.invoke({'messages': messages})\n",
    "for m in output['messages']:\n",
    "    m.pretty_print()"
   ]
  },
  {
   "cell_type": "markdown",
   "id": "f506457d-014b-4fee-a684-e5edfb4b8f0d",
   "metadata": {},
   "source": [
    "## Filtering messages\n",
    "\n",
    "If you don't need or want to modify the graph state, you can just filter the messages you pass to the chat model.\n",
    "\n",
    "For example, just pass in a filtered list: `llm.invoke(messages[-1:])` to the model."
   ]
  },
  {
   "cell_type": "code",
   "execution_count": 28,
   "id": "22d0b904-7cd6-486b-8948-105bee3d4683",
   "metadata": {},
   "outputs": [
    {
     "data": {
      "image/png": "[encoded data removed]",
      "text/plain": [
       "<IPython.core.display.Image object>"
      ]
     },
     "metadata": {},
     "output_type": "display_data"
    }
   ],
   "source": [
    "# Node\n",
    "def chat_model_node(state: MessagesState):\n",
    "    return {\"messages\": [llm.invoke(state[\"messages\"][-1:])]}\n",
    "\n",
    "# Build graph\n",
    "builder = StateGraph(MessagesState)\n",
    "builder.add_node(\"chat_model\", chat_model_node)\n",
    "builder.add_edge(START, \"chat_model\")\n",
    "builder.add_edge(\"chat_model\", END)\n",
    "graph = builder.compile()\n",
    "\n",
    "# View\n",
    "display(Image(graph.get_graph().draw_mermaid_png()))"
   ]
  },
  {
   "cell_type": "markdown",
   "id": "6f58c6fc-532f-418d-b70a-cfcb3307daf5",
   "metadata": {},
   "source": [
    "Let's take our existing list of messages, append the above LLM response, and append a follow-up question."
   ]
  },
  {
   "cell_type": "code",
   "execution_count": 30,
   "id": "16956015-1dbe-4108-89b5-4209b68b51ca",
   "metadata": {},
   "outputs": [],
   "source": [
    "messages.append(output['messages'][-1])\n",
    "messages.append(HumanMessage(f\"Tell me more about France!\", name=\"Kashvi\"))"
   ]
  },
  {
   "cell_type": "code",
   "execution_count": 31,
   "id": "85563415-c085-46a8-a4ac-155df798c54e",
   "metadata": {},
   "outputs": [
    {
     "name": "stdout",
     "output_type": "stream",
     "text": [
      "==================================\u001b[1m Ai Message \u001b[0m==================================\n",
      "Name: Bot\n",
      "\n",
      "Hi.\n",
      "================================\u001b[1m Human Message \u001b[0m=================================\n",
      "Name: Lance\n",
      "\n",
      "Hi.\n",
      "==================================\u001b[1m Ai Message \u001b[0m==================================\n",
      "Name: Bot\n",
      "\n",
      "So you said you were looking for places to go around the world?\n",
      "================================\u001b[1m Human Message \u001b[0m=================================\n",
      "Name: Lance\n",
      "\n",
      "Yes, I am interested in Italy. But what other places can i go to?\n",
      "==================================\u001b[1m Ai Message \u001b[0m==================================\n",
      "\n",
      "Italy is a fantastic choice with its rich history, culture, and cuisine. If you're open to exploring other destinations, here are a few suggestions that might interest you:\n",
      "\n",
      "1. **Spain**: Discover vibrant cities like Barcelona and Madrid, relax on the beaches of the Costa del Sol, or explore the unique architecture of Seville and Granada.\n",
      "\n",
      "2. **France**: From the romance of Paris to the stunning landscapes of Provence and the French Riviera, France offers diverse attractions.\n",
      "\n",
      "3. **Greece**: Explore the historic sites of Athens, relax on the picturesque islands of Santorini and Mykonos, or delve into the culture of Crete.\n",
      "\n",
      "4. **Portugal**: Visit the charming city of Lisbon, the scenic Douro Valley wine region, or the beaches of the Algarve.\n",
      "\n",
      "5. **Japan**: Experience the blend of traditional and modern in Tokyo, the historic temples of Kyoto, and the natural beauty of Hokkaido.\n",
      "\n",
      "6. **Iceland**: Discover the dramatic landscapes of volcanoes, geysers, hot springs, and glaciers in this unique and beautiful country.\n",
      "\n",
      "7. **Australia**: Explore the Great Barrier Reef, the vibrant city of Sydney, or the natural beauty of the outback.\n",
      "\n",
      "8. **New Zealand**: Experience breathtaking landscapes, adventure sports, and Maori culture in this stunning country.\n",
      "\n",
      "9. **Thailand**: Enjoy the vibrant city of Bangkok, the ancient ruins of Ayutthaya, and the beautiful beaches of Phuket and Koh Samui.\n",
      "\n",
      "10. **South Africa**: From the wild beauty of Kruger National Park to the cosmopolitan city of Cape Town, South Africa offers diverse experiences.\n",
      "\n",
      "Each of these destinations has its own unique attractions and cultural highlights, offering different experiences depending on your interests.\n",
      "================================\u001b[1m Human Message \u001b[0m=================================\n",
      "Name: Kashvi\n",
      "\n",
      "Tell me more about France!\n",
      "==================================\u001b[1m Ai Message \u001b[0m==================================\n",
      "\n",
      "Italy is a fantastic choice with its rich history, culture, and cuisine. If you're open to exploring other destinations, here are a few suggestions that might interest you:\n",
      "\n",
      "1. **Spain**: Discover vibrant cities like Barcelona and Madrid, relax on the beaches of the Costa del Sol, or explore the unique architecture of Seville and Granada.\n",
      "\n",
      "2. **France**: From the romance of Paris to the stunning landscapes of Provence and the French Riviera, France offers diverse attractions.\n",
      "\n",
      "3. **Greece**: Explore the historic sites of Athens, relax on the picturesque islands of Santorini and Mykonos, or delve into the culture of Crete.\n",
      "\n",
      "4. **Portugal**: Visit the charming city of Lisbon, the scenic Douro Valley wine region, or the beaches of the Algarve.\n",
      "\n",
      "5. **Japan**: Experience the blend of traditional and modern in Tokyo, the historic temples of Kyoto, and the natural beauty of Hokkaido.\n",
      "\n",
      "6. **Iceland**: Discover the dramatic landscapes of volcanoes, geysers, hot springs, and glaciers in this unique and beautiful country.\n",
      "\n",
      "7. **Australia**: Explore the Great Barrier Reef, the vibrant city of Sydney, or the natural beauty of the outback.\n",
      "\n",
      "8. **New Zealand**: Experience breathtaking landscapes, adventure sports, and Maori culture in this stunning country.\n",
      "\n",
      "9. **Thailand**: Enjoy the vibrant city of Bangkok, the ancient ruins of Ayutthaya, and the beautiful beaches of Phuket and Koh Samui.\n",
      "\n",
      "10. **South Africa**: From the wild beauty of Kruger National Park to the cosmopolitan city of Cape Town, South Africa offers diverse experiences.\n",
      "\n",
      "Each of these destinations has its own unique attractions and cultural highlights, offering different experiences depending on your interests.\n",
      "================================\u001b[1m Human Message \u001b[0m=================================\n",
      "Name: Kashvi\n",
      "\n",
      "Tell me more about France!\n"
     ]
    }
   ],
   "source": [
    "for m in messages:\n",
    "    m.pretty_print()"
   ]
  },
  {
   "cell_type": "code",
   "execution_count": 32,
   "id": "23349705-a059-47b5-9760-d8f64e687393",
   "metadata": {},
   "outputs": [
    {
     "name": "stdout",
     "output_type": "stream",
     "text": [
      "==================================\u001b[1m Ai Message \u001b[0m==================================\n",
      "Name: Bot\n",
      "\n",
      "Hi.\n",
      "================================\u001b[1m Human Message \u001b[0m=================================\n",
      "Name: Lance\n",
      "\n",
      "Hi.\n",
      "==================================\u001b[1m Ai Message \u001b[0m==================================\n",
      "Name: Bot\n",
      "\n",
      "So you said you were looking for places to go around the world?\n",
      "================================\u001b[1m Human Message \u001b[0m=================================\n",
      "Name: Lance\n",
      "\n",
      "Yes, I am interested in Italy. But what other places can i go to?\n",
      "==================================\u001b[1m Ai Message \u001b[0m==================================\n",
      "\n",
      "Italy is a fantastic choice with its rich history, culture, and cuisine. If you're open to exploring other destinations, here are a few suggestions that might interest you:\n",
      "\n",
      "1. **Spain**: Discover vibrant cities like Barcelona and Madrid, relax on the beaches of the Costa del Sol, or explore the unique architecture of Seville and Granada.\n",
      "\n",
      "2. **France**: From the romance of Paris to the stunning landscapes of Provence and the French Riviera, France offers diverse attractions.\n",
      "\n",
      "3. **Greece**: Explore the historic sites of Athens, relax on the picturesque islands of Santorini and Mykonos, or delve into the culture of Crete.\n",
      "\n",
      "4. **Portugal**: Visit the charming city of Lisbon, the scenic Douro Valley wine region, or the beaches of the Algarve.\n",
      "\n",
      "5. **Japan**: Experience the blend of traditional and modern in Tokyo, the historic temples of Kyoto, and the natural beauty of Hokkaido.\n",
      "\n",
      "6. **Iceland**: Discover the dramatic landscapes of volcanoes, geysers, hot springs, and glaciers in this unique and beautiful country.\n",
      "\n",
      "7. **Australia**: Explore the Great Barrier Reef, the vibrant city of Sydney, or the natural beauty of the outback.\n",
      "\n",
      "8. **New Zealand**: Experience breathtaking landscapes, adventure sports, and Maori culture in this stunning country.\n",
      "\n",
      "9. **Thailand**: Enjoy the vibrant city of Bangkok, the ancient ruins of Ayutthaya, and the beautiful beaches of Phuket and Koh Samui.\n",
      "\n",
      "10. **South Africa**: From the wild beauty of Kruger National Park to the cosmopolitan city of Cape Town, South Africa offers diverse experiences.\n",
      "\n",
      "Each of these destinations has its own unique attractions and cultural highlights, offering different experiences depending on your interests.\n",
      "================================\u001b[1m Human Message \u001b[0m=================================\n",
      "Name: Kashvi\n",
      "\n",
      "Tell me more about France!\n",
      "================================\u001b[1m Human Message \u001b[0m=================================\n",
      "Name: Kashvi\n",
      "\n",
      "Tell me more about France!\n",
      "==================================\u001b[1m Ai Message \u001b[0m==================================\n",
      "\n",
      "Certainly! France is a country with a rich history and diverse culture, located in Western Europe. Here are some key points about France:\n",
      "\n",
      "1. **Geography**: France is known for its varied landscape, which includes beaches along the Mediterranean and Atlantic coasts, mountains like the Alps and the Pyrenees, and lush countryside. The capital city, Paris, is one of the most famous cities in the world, known for its art, fashion, gastronomy, and culture.\n",
      "\n",
      "2. **History**: France has a long history that has influenced the world significantly. It was a major player in European and world events, such as the French Revolution in 1789, which led to the rise of republicanism and democracy in Europe. France has been involved in many significant historical events, including both World Wars.\n",
      "\n",
      "3. **Culture**: French culture is renowned for its contributions to art, philosophy, and science. It is the birthplace of many renowned artists, writers, and thinkers, like Claude Monet in art, Victor Hugo in literature, and René Descartes in philosophy. France is also famous for its culinary traditions, with a cuisine that emphasizes the use of high-quality ingredients.\n",
      "\n",
      "4. **Government**: France is a republic with a semi-presidential system. It has both a President and a Prime Minister. The National Assembly and the Senate constitute its bicameral legislature. France is a founding member of the European Union and NATO.\n",
      "\n",
      "5. **Economy**: As one of the world's largest economies, France has a diverse and advanced economy. Important sectors include aerospace, automotive, luxury goods, and tourism. France is home to many multinational corporations and is a leader in the production of wine and cheese.\n",
      "\n",
      "6. **Tourism**: France is the world's most visited country, attracting tens of millions of tourists each year. Key attractions include the Eiffel Tower, the Louvre Museum, the Palace of Versailles, and the historic region of Normandy. The French Riviera and the wine regions of Bordeaux and Burgundy are also popular destinations.\n",
      "\n",
      "7. **Language**: French is the official language and is widely spoken throughout the country. France has a strong emphasis on linguistic purity, maintained by institutions like the Académie Française.\n",
      "\n",
      "8. **Lifestyle**: The French are known for enjoying a high quality of life, with a focus on work-life balance, gastronomy, fashion, and regular cultural and social activities. French social life often involves family gatherings, dining out, and participation in a vibrant café culture.\n",
      "\n",
      "France's influence on world history and culture is profound, making it a fascinating subject of study and a popular destination for travelers worldwide.\n"
     ]
    }
   ],
   "source": [
    "# Invoke, using message filtering\n",
    "output = graph.invoke({'messages': messages})\n",
    "for m in output['messages']:\n",
    "    m.pretty_print()"
   ]
  },
  {
   "cell_type": "markdown",
   "id": "42e1d8d2-e297-4d78-b54c-d12b3c866745",
   "metadata": {},
   "source": [
    "The state has all of the mesages.\n",
    "\n",
    "But, let's look at the LangSmith trace to see that the model invocation only uses the last message:\n",
    "\n",
    "https://smith.langchain.com/public/75aca3ce-ef19-4b92-94be-0178c7a660d9/r"
   ]
  },
  {
   "cell_type": "markdown",
   "id": "fc40d930-3c1f-47fe-8d2a-ce174873353c",
   "metadata": {},
   "source": [
    "## Trim messages\n",
    "\n",
    "Another approach is to [trim messages](https://python.langchain.com/v0.2/docs/how_to/trim_messages/#getting-the-last-max_tokens-tokens), based upon a set number of tokens. \n",
    "\n",
    "This restricts the message history to a specified number of tokens.\n",
    "\n",
    "While filtering only returns a post-hoc subset of the messages between agents, trimming restricts the number of tokens that a chat model can use to respond.\n",
    "\n",
    "See the `trim_messages` below."
   ]
  },
  {
   "cell_type": "code",
   "execution_count": 33,
   "id": "2ff99b81-cf03-4cc2-b44f-44829a73e1fd",
   "metadata": {},
   "outputs": [
    {
     "data": {
      "image/png": "[encoded data removed]",
      "text/plain": [
       "<IPython.core.display.Image object>"
      ]
     },
     "metadata": {},
     "output_type": "display_data"
    }
   ],
   "source": [
    "from langchain_core.messages import trim_messages\n",
    "\n",
    "# Node\n",
    "def chat_model_node(state: MessagesState):\n",
    "    messages = trim_messages(\n",
    "            state[\"messages\"],\n",
    "            max_tokens=100,\n",
    "            strategy=\"last\",\n",
    "            token_counter=ChatOpenAI(model=\"gpt-4o\"),\n",
    "            allow_partial=False,\n",
    "        )\n",
    "    return {\"messages\": [llm.invoke(messages)]}\n",
    "\n",
    "# Build graph\n",
    "builder = StateGraph(MessagesState)\n",
    "builder.add_node(\"chat_model\", chat_model_node)\n",
    "builder.add_edge(START, \"chat_model\")\n",
    "builder.add_edge(\"chat_model\", END)\n",
    "graph = builder.compile()\n",
    "\n",
    "# View\n",
    "display(Image(graph.get_graph().draw_mermaid_png()))"
   ]
  },
  {
   "cell_type": "code",
   "execution_count": 34,
   "id": "24df63ac-da29-4874-b3df-7e390e97cc8a",
   "metadata": {},
   "outputs": [],
   "source": [
    "messages.append(output['messages'][-1])\n",
    "messages.append(HumanMessage(f\"Tell me what are some places in France!\", name=\"Lance\"))"
   ]
  },
  {
   "cell_type": "code",
   "execution_count": 35,
   "id": "6d9d8971-c75c-43ca-a209-eb1d07b2ead0",
   "metadata": {},
   "outputs": [
    {
     "data": {
      "text/plain": [
       "[AIMessage(content=\"\\nFrance's influence on world history and culture is profound, making it a fascinating subject of study and a popular destination for travelers worldwide.\", additional_kwargs={'refusal': None}, response_metadata={'token_usage': {'completion_tokens': 529, 'prompt_tokens': 17, 'total_tokens': 546, 'completion_tokens_details': {'accepted_prediction_tokens': 0, 'audio_tokens': 0, 'reasoning_tokens': 0, 'rejected_prediction_tokens': 0}, 'prompt_tokens_details': {'audio_tokens': 0, 'cached_tokens': 0}}, 'model_provider': 'openai', 'model_name': 'gpt-4o-2024-08-06', 'system_fingerprint': 'fp_a788c5aef0', 'id': 'chatcmpl-CTsdgO7PYjxoSTjjR1ceoLRACR6Om', 'service_tier': 'default', 'finish_reason': 'stop', 'logprobs': None}, id='lc_run--064d2bef-c5af-4e94-84cf-a3d52b97e952-0', usage_metadata={'input_tokens': 17, 'output_tokens': 529, 'total_tokens': 546, 'input_token_details': {'audio': 0, 'cache_read': 0}, 'output_token_details': {'audio': 0, 'reasoning': 0}}),\n",
       " HumanMessage(content='Tell me what are some places in France!', additional_kwargs={}, response_metadata={}, name='Lance')]"
      ]
     },
     "execution_count": 35,
     "metadata": {},
     "output_type": "execute_result"
    }
   ],
   "source": [
    "# Example of trimming messages\n",
    "trim_messages(\n",
    "            messages,\n",
    "            max_tokens=100,\n",
    "            strategy=\"last\",\n",
    "            token_counter=ChatOpenAI(model=\"gpt-4o\"),\n",
    "            allow_partial=True\n",
    "        )"
   ]
  },
  {
   "cell_type": "code",
   "execution_count": 36,
   "id": "ed70a269-a869-4fa0-a1df-29736a432c51",
   "metadata": {},
   "outputs": [],
   "source": [
    "# Invoke, using message trimming in the chat_model_node \n",
    "messages_out_trim = graph.invoke({'messages': messages})"
   ]
  },
  {
   "cell_type": "markdown",
   "id": "38b3db67-380e-46b5-9a6a-20100ba52008",
   "metadata": {},
   "source": [
    "Let's look at the LangSmith trace to see the model invocation:\n",
    "\n",
    "https://smith.langchain.com/public/b153f7e9-f1a5-4d60-8074-f0d7ab5b42ef/r"
   ]
  }
 ],
 "metadata": {
  "kernelspec": {
   "display_name": ".venv",
   "language": "python",
   "name": "python3"
  },
  "language_info": {
   "codemirror_mode": {
    "name": "ipython",
    "version": 3
   },
   "file_extension": ".py",
   "mimetype": "text/x-python",
   "name": "python",
   "nbconvert_exporter": "python",
   "pygments_lexer": "ipython3",
   "version": "3.13.5"
  }
 },
 "nbformat": 4,
 "nbformat_minor": 5
}
