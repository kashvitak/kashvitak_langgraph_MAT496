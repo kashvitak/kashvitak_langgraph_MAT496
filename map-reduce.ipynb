{
 "cells": [
  {
   "cell_type": "markdown",
   "id": "4cd4f701",
   "metadata": {},
   "source": [
    "[![Open in Colab](https://colab.research.google.com/assets/colab-badge.svg)](https://colab.research.google.com/github/langchain-ai/langchain-academy/blob/main/module-4/map-reduce.ipynb) [![Open in LangChain Academy](https://cdn.prod.website-files.com/65b8cd72835ceeacd4449a53/66e9eba12c7b7688aa3dbb5e_LCA-badge-green.svg)](https://academy.langchain.com/courses/take/intro-to-langgraph/lessons/58239947-lesson-3-map-reduce)"
   ]
  },
  {
   "cell_type": "markdown",
   "id": "36737349-c949-4d64-9aa3-3767cbd02ad1",
   "metadata": {},
   "source": [
    "# Map-reduce\n",
    "\n",
    "## Review\n",
    "\n",
    "We're building up to a multi-agent research assistant that ties together all of the modules from this course.\n",
    "\n",
    "To build this multi-agent assistant, we've been introducing a few LangGraph controllability topics.\n",
    "\n",
    "We just covered parallelization and sub-graphs.\n",
    "\n",
    "## Goals\n",
    "\n",
    "Now, we're going to cover [map reduce](https://langchain-ai.github.io/langgraph/how-tos/map-reduce/)."
   ]
  },
  {
   "cell_type": "code",
   "execution_count": 82,
   "id": "f24e95c8",
   "metadata": {},
   "outputs": [
    {
     "name": "stderr",
     "output_type": "stream",
     "text": [
      "\n",
      "[notice] A new release of pip is available: 25.1.1 -> 25.3\n",
      "[notice] To update, run: python.exe -m pip install --upgrade pip\n"
     ]
    }
   ],
   "source": [
    "%%capture --no-stderr\n",
    "%pip install -U langchain_openai langgraph"
   ]
  },
  {
   "cell_type": "code",
   "execution_count": 83,
   "id": "ff57cbf7",
   "metadata": {},
   "outputs": [],
   "source": [
    "import os, getpass\n",
    "\n",
    "def _set_env(var: str):\n",
    "    if not os.environ.get(var):\n",
    "        os.environ[var] = getpass.getpass(f\"{var}: \")\n",
    "\n",
    "_set_env(\"OPENAI_API_KEY\")"
   ]
  },
  {
   "cell_type": "markdown",
   "id": "cbcd868a",
   "metadata": {},
   "source": [
    "We'll use [LangSmith](https://docs.smith.langchain.com/) for [tracing](https://docs.smith.langchain.com/concepts/tracing)."
   ]
  },
  {
   "cell_type": "code",
   "execution_count": 84,
   "id": "9fdc647f",
   "metadata": {},
   "outputs": [],
   "source": [
    "_set_env(\"LANGSMITH_API_KEY\")\n",
    "os.environ[\"LANGSMITH_TRACING\"] = \"true\"\n",
    "os.environ[\"LANGSMITH_PROJECT\"] = \"langchain-academy\""
   ]
  },
  {
   "cell_type": "markdown",
   "id": "2bbe9b9f-4375-4bca-8e32-7d57cb861469",
   "metadata": {},
   "source": [
    "## Problem\n",
    "\n",
    "Map-reduce operations are essential for efficient task decomposition and parallel processing. \n",
    "\n",
    "It has two phases:\n",
    "\n",
    "(1) `Map` - Break a task into smaller sub-tasks, processing each sub-task in parallel.\n",
    "\n",
    "(2) `Reduce` - Aggregate the results across all of the completed, parallelized sub-tasks.\n",
    "\n",
    "Let's design a system that will do two things:\n",
    "\n",
    "(1) `Map` - Create a set of jokes about a topic.\n",
    "\n",
    "(2) `Reduce` - Pick the best joke from the list.\n",
    "\n",
    "We'll use an LLM to do the job generation and selection."
   ]
  },
  {
   "cell_type": "code",
   "execution_count": 85,
   "id": "994cf903-1ed6-4ae2-b32a-7891a2808f81",
   "metadata": {},
   "outputs": [],
   "source": [
    "from langchain_openai import ChatOpenAI\n",
    "\n",
    "# Prompts we will use\n",
    "subjects_prompt = \"\"\"Generate a list of 3 sub-topics that are all related to this overall topic: {topic}.\"\"\"\n",
    "fact_prompt = \"\"\"Generate a fact about {subject}\"\"\"\n",
    "best_fact_prompt = \"\"\"Below are a bunch of facts about {topic}. Select the best one! Return the ID of the best one, starting 0 as the ID for the first fact. facts: \\n\\n  {facts}\"\"\"\n",
    "\n",
    "# LLM\n",
    "model = ChatOpenAI(model=\"gpt-4o\", temperature=0) "
   ]
  },
  {
   "cell_type": "markdown",
   "id": "f3b883cc-3469-4e96-b1a4-deadf7bf3ce5",
   "metadata": {},
   "source": [
    "## State\n",
    "\n",
    "### Parallelizing joke generation\n",
    "\n",
    "First, let's define the entry point of the graph that will:\n",
    "\n",
    "* Take a user input topic\n",
    "* Produce a list of joke topics from it\n",
    "* Send each joke topic to our above joke generation node\n",
    "\n",
    "Our state has a `jokes` key, which will accumulate jokes from parallelized joke generation"
   ]
  },
  {
   "cell_type": "code",
   "execution_count": 86,
   "id": "099218ca-ee78-4291-95a1-87ee61382e3b",
   "metadata": {},
   "outputs": [],
   "source": [
    "import operator\n",
    "from typing import Annotated\n",
    "from typing_extensions import TypedDict\n",
    "from pydantic import BaseModel\n",
    "\n",
    "class Subjects(BaseModel):\n",
    "    subjects: list[str]\n",
    "\n",
    "class Bestfact(BaseModel):\n",
    "    id: int\n",
    "    \n",
    "class OverallState(TypedDict):\n",
    "    topic: str\n",
    "    subjects: list\n",
    "    facts: Annotated[list, operator.add]\n",
    "    best_selected_fact: str"
   ]
  },
  {
   "cell_type": "markdown",
   "id": "c7176d1c-4a88-4b0f-a960-ee04a45279bd",
   "metadata": {},
   "source": [
    "Generate subjects for jokes."
   ]
  },
  {
   "cell_type": "code",
   "execution_count": 87,
   "id": "45010efd-ad31-4daa-b77e-aaec79ef0309",
   "metadata": {},
   "outputs": [],
   "source": [
    "def generate_topics(state: OverallState):\n",
    "    prompt = subjects_prompt.format(topic=state[\"topic\"])\n",
    "    response = model.with_structured_output(Subjects).invoke(prompt)\n",
    "    return {\"subjects\": response.subjects}"
   ]
  },
  {
   "cell_type": "markdown",
   "id": "e5296bb0-c163-4e5c-8181-1e305b37442a",
   "metadata": {},
   "source": [
    "Here is the magic: we use the [Send](https://langchain-ai.github.io/langgraph/concepts/low_level/#send) to create a joke for each subject.\n",
    "\n",
    "This is very useful! It can automatically parallelize joke generation for any number of subjects.\n",
    "\n",
    "* `generate_joke`: the name of the node in the graph\n",
    "* `{\"subject\": s`}: the state to send\n",
    "\n",
    "`Send` allow you to pass any state that you want to `generate_joke`! It does not have to align with `OverallState`.\n",
    "\n",
    "In this case, `generate_joke` is using its own internal state, and we can populate this via `Send`."
   ]
  },
  {
   "cell_type": "code",
   "execution_count": 88,
   "id": "bc83e575-11f6-41a9-990a-adb571bcda06",
   "metadata": {},
   "outputs": [],
   "source": [
    "from langgraph.types import Send\n",
    "def continue_to_facts(state: OverallState):\n",
    "    return [Send(\"generate_fact\", {\"subject\": s}) for s in state[\"subjects\"]]"
   ]
  },
  {
   "cell_type": "markdown",
   "id": "9847192d-d358-411e-90c0-f06be0738717",
   "metadata": {},
   "source": [
    "### Joke generation (map)\n",
    "\n",
    "Now, we just define a node that will create our jokes, `generate_joke`!\n",
    "\n",
    "We write them back out to `jokes` in `OverallState`! \n",
    "\n",
    "This key has a reducer that will combine lists."
   ]
  },
  {
   "cell_type": "code",
   "execution_count": 89,
   "id": "bcddc567-73d3-4fb3-bfc5-1bea538f2aab",
   "metadata": {},
   "outputs": [],
   "source": [
    "class factState(TypedDict):\n",
    "    subject: str\n",
    "\n",
    "class fact(BaseModel):\n",
    "    fact: str\n",
    "\n",
    "def generate_fact(state: factState):\n",
    "    prompt = fact_prompt.format(subject=state[\"subject\"])\n",
    "    response = model.with_structured_output(fact).invoke(prompt)\n",
    "    return {\"facts\": [response.fact]}"
   ]
  },
  {
   "cell_type": "markdown",
   "id": "02960657-d174-4076-99a8-b3f9eea015f4",
   "metadata": {},
   "source": [
    "### Best joke selection (reduce)\n",
    "\n",
    "Now, we add logic to pick the best joke."
   ]
  },
  {
   "cell_type": "code",
   "execution_count": 90,
   "id": "8d672870-75e3-4307-bda0-c41a86cbbaff",
   "metadata": {},
   "outputs": [],
   "source": [
    "def best_fact(state: OverallState):\n",
    "    facts = \"\\n\\n\".join(state[\"facts\"])\n",
    "    prompt = best_fact_prompt.format(topic=state[\"topic\"], facts=facts)\n",
    "    response = model.with_structured_output(Bestfact).invoke(prompt)\n",
    "    return {\"best_selected_fact\": state[\"facts\"][response.id]}"
   ]
  },
  {
   "cell_type": "markdown",
   "id": "837cd12e-5bff-426e-97f4-c774df998cfb",
   "metadata": {},
   "source": [
    "## Compile"
   ]
  },
  {
   "cell_type": "code",
   "execution_count": 91,
   "id": "2ae6be4b-144e-483c-88ad-ce86d6477a0d",
   "metadata": {},
   "outputs": [
    {
     "data": {
      "image/png": "[encoded data removed]",
      "text/plain": [
       "<IPython.core.display.Image object>"
      ]
     },
     "execution_count": 91,
     "metadata": {},
     "output_type": "execute_result"
    }
   ],
   "source": [
    "from IPython.display import Image\n",
    "from langgraph.graph import END, StateGraph, START\n",
    "\n",
    "# Construct the graph: here we put everything together to construct our graph\n",
    "graph = StateGraph(OverallState)\n",
    "graph.add_node(\"generate_topics\", generate_topics)\n",
    "graph.add_node(\"generate_fact\", generate_fact)\n",
    "graph.add_node(\"best_fact\", best_fact)\n",
    "graph.add_edge(START, \"generate_topics\")\n",
    "graph.add_conditional_edges(\"generate_topics\", continue_to_facts, [\"generate_fact\"])\n",
    "graph.add_edge(\"generate_fact\", \"best_fact\")\n",
    "graph.add_edge(\"best_fact\", END)\n",
    "\n",
    "# Compile the graph\n",
    "app = graph.compile()\n",
    "Image(app.get_graph().draw_mermaid_png())"
   ]
  },
  {
   "cell_type": "code",
   "execution_count": 94,
   "id": "e21dc7c9-0add-4125-be76-af701adb874a",
   "metadata": {},
   "outputs": [
    {
     "name": "stdout",
     "output_type": "stream",
     "text": [
      "{'generate_topics': {'subjects': ['Astrobiology: The study of life in the universe, focusing on the potential for life on other planets and moons, and the conditions that might support it.', 'Space Exploration Technologies: Innovations and advancements in spacecraft, propulsion systems, and robotics that enable the exploration of outer space, including missions to Mars and beyond.', 'Cosmology: The scientific study of the large-scale properties of the universe as a whole, including theories about its origin, evolution, and eventual fate.']}}\n",
      "{'generate_fact': {'facts': [\"Astrobiology is an interdisciplinary field that combines elements of biology, chemistry, geology, and astronomy to explore the potential for life beyond Earth. One of the most intriguing aspects of astrobiology is the study of extremophiles—organisms that thrive in extreme environments on Earth, such as hydrothermal vents, acidic lakes, and polar ice caps. These organisms provide valuable insights into the types of life forms that might exist in similar extreme conditions on other planets and moons, such as the subsurface oceans of Jupiter's moon Europa or the methane lakes on Saturn's moon Titan.\"]}}\n",
      "{'generate_fact': {'facts': ['**Fact about Cosmology:**\\n\\nThe Cosmic Microwave Background (CMB) radiation is a critical piece of evidence supporting the Big Bang theory. Discovered in 1965 by Arno Penzias and Robert Wilson, the CMB is a faint glow of light that fills the universe, dating back to about 380,000 years after the Big Bang. This radiation is remarkably uniform, with tiny fluctuations that provide a snapshot of the early universe, offering insights into its initial conditions and subsequent evolution.']}}\n",
      "{'generate_fact': {'facts': ['Space Exploration Technologies Corp., commonly known as SpaceX, has revolutionized space travel with its groundbreaking innovations in spacecraft design, propulsion systems, and robotics. Here are some key advancements:\\n\\n1. **Reusable Rockets:**\\n   - SpaceX\\'s Falcon 9 rocket is the first orbital-class rocket capable of reflight. This innovation significantly reduces the cost of access to space by allowing the same rocket to be used multiple times.\\n\\n2. **Starship Development:**\\n   - The Starship spacecraft, currently under development, is designed for missions to Mars and beyond. It aims to carry up to 100 passengers and is fully reusable, further driving down costs and increasing the feasibility of interplanetary travel.\\n\\n3. **Raptor Engines:**\\n   - SpaceX\\'s Raptor engines, used in the Starship, are powered by liquid methane and liquid oxygen. This choice of fuel is not only efficient but also allows for the possibility of \"in-situ resource utilization\" on Mars, where methane can be produced from local resources.\\n\\n4. **Dragon Spacecraft:**\\n   - The Dragon spacecraft, used for both cargo and crew missions to the International Space Station (ISS), is the first commercial spacecraft to deliver cargo to the ISS and return safely to Earth.\\n\\n5. **Autonomous Landing and Recovery:**\\n   - SpaceX has developed advanced autonomous landing technologies, allowing rockets to land on drone ships in the ocean or return to land-based platforms, enhancing recovery and reuse capabilities.\\n\\n6. **Robotic Innovations:**\\n   - SpaceX employs advanced robotics for tasks such as docking with the ISS and deploying satellites. These systems enhance precision and safety in space operations.\\n\\n7. **Starlink Satellite Network:**\\n   - SpaceX\\'s Starlink project aims to provide global internet coverage through a constellation of low Earth orbit satellites. This initiative not only advances telecommunications but also supports future space missions with enhanced communication capabilities.\\n\\n8. **Mars Colonization Vision:**\\n   - SpaceX\\'s long-term vision includes establishing a self-sustaining city on Mars. This ambitious goal drives continuous innovation in spacecraft design, life support systems, and sustainable living technologies.\\n\\nSpaceX\\'s relentless pursuit of innovation continues to push the boundaries of what is possible in space exploration, paving the way for humanity\\'s future among the stars.']}}\n",
      "{'best_fact': {'best_selected_fact': \"Astrobiology is an interdisciplinary field that combines elements of biology, chemistry, geology, and astronomy to explore the potential for life beyond Earth. One of the most intriguing aspects of astrobiology is the study of extremophiles—organisms that thrive in extreme environments on Earth, such as hydrothermal vents, acidic lakes, and polar ice caps. These organisms provide valuable insights into the types of life forms that might exist in similar extreme conditions on other planets and moons, such as the subsurface oceans of Jupiter's moon Europa or the methane lakes on Saturn's moon Titan.\"}}\n"
     ]
    }
   ],
   "source": [
    "# Call the graph: here we call it to generate a list of facts\n",
    "for s in app.stream({\"topic\": \"space\"}):\n",
    "    print(s)"
   ]
  },
  {
   "attachments": {},
   "cell_type": "markdown",
   "id": "2a96517e-77ab-46e2-95e2-79168c044e9c",
   "metadata": {},
   "source": [
    "## Studio\n",
    "\n",
    "**⚠️ DISCLAIMER**\n",
    "\n",
    "Since the filming of these videos, we've updated Studio so that it can be run locally and opened in your browser. This is now the preferred way to run Studio (rather than using the Desktop App as shown in the video). See documentation [here](https://langchain-ai.github.io/langgraph/concepts/langgraph_studio/#local-development-server) on the local development server and [here](https://langchain-ai.github.io/langgraph/how-tos/local-studio/#run-the-development-server). To start the local development server, run the following command in your terminal in the `/studio` directory in this module:\n",
    "\n",
    "```\n",
    "langgraph dev\n",
    "```\n",
    "\n",
    "You should see the following output:\n",
    "```\n",
    "- 🚀 API: http://127.0.0.1:2024\n",
    "- 🎨 Studio UI: https://smith.langchain.com/studio/?baseUrl=http://127.0.0.1:2024\n",
    "- 📚 API Docs: http://127.0.0.1:2024/docs\n",
    "```\n",
    "\n",
    "Open your browser and navigate to the Studio UI: `https://smith.langchain.com/studio/?baseUrl=http://127.0.0.1:2024`.\n",
    "\n",
    "Let's load our the above graph in the Studio UI, which uses `module-4/studio/map_reduce.py` set in `module-4/studio/langgraph.json`."
   ]
  },
  {
   "cell_type": "code",
   "execution_count": null,
   "id": "741a5e45-9a4c-43b4-8393-9298b3dcda53",
   "metadata": {},
   "outputs": [],
   "source": []
  }
 ],
 "metadata": {
  "kernelspec": {
   "display_name": ".venv",
   "language": "python",
   "name": "python3"
  },
  "language_info": {
   "codemirror_mode": {
    "name": "ipython",
    "version": 3
   },
   "file_extension": ".py",
   "mimetype": "text/x-python",
   "name": "python",
   "nbconvert_exporter": "python",
   "pygments_lexer": "ipython3",
   "version": "3.13.5"
  }
 },
 "nbformat": 4,
 "nbformat_minor": 5
}
